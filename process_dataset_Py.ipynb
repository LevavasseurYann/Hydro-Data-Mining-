{
 "cells": [
  {
   "cell_type": "markdown",
   "metadata": {},
   "source": [
    "## Rework TXT files to CSV enhanced ones\n",
    "* Only if you just have the badly arranged txt files\n",
    "* Once this file is used, you don't need it anymore "
   ]
  },
  {
   "cell_type": "code",
   "execution_count": 1,
   "metadata": {},
   "outputs": [],
   "source": [
    "import pandas as pd\n",
    "import numpy as np\n",
    "from os import listdir\n",
    "from os.path import isfile, join\n",
    "import os"
   ]
  },
  {
   "cell_type": "code",
   "execution_count": 2,
   "metadata": {},
   "outputs": [
    {
     "name": "stdout",
     "output_type": "stream",
     "text": [
      "C:\\Users\\utilisateur\\Workspace_lab\n"
     ]
    }
   ],
   "source": [
    "cwd = os.getcwd()\n",
    "os.chdir(cwd)\n",
    "print(cwd)"
   ]
  },
  {
   "cell_type": "code",
   "execution_count": 3,
   "metadata": {},
   "outputs": [],
   "source": [
    "path_GW = r\"csv\\GW\"\n",
    "path_RG_24 = r\"csv\\RG\\precipiation_RG\"\n",
    "path_RG_1 = r\"csv\\RG\\precipitation_1h_RG\""
   ]
  },
  {
   "cell_type": "markdown",
   "metadata": {},
   "source": [
    "### Méthodes\n",
    "***\n",
    "- prepocess_2(src): return src(dataframe) prend un dataframe pour caster la colonne de Date vers le type Date(pandas).\n",
    "- prepocess_3(src): return src(dataframe) pareil mais prend en compte l'heure.\n",
    "- generate_dataset(source): return dataset(dataframe) récupère tous les fichiers du dossier source afin d'extraire au forma Dataframe les données et les pré-traiter.\n"
   ]
  },
  {
   "cell_type": "code",
   "execution_count": 4,
   "metadata": {},
   "outputs": [],
   "source": [
    "def preprocess_2(src):\n",
    "    src[\"Date\"] = pd.to_datetime(src[\"Date\"], format='%d/%m/%Y')\n",
    "    #src = src.set_index(\"Date\") Plus facile à utiliser sans passer par index, mais joue le rôle de l'index\n",
    "    return src"
   ]
  },
  {
   "cell_type": "code",
   "execution_count": 5,
   "metadata": {},
   "outputs": [],
   "source": [
    "def preprocess_3(src):\n",
    "    src['Date'] = src[['Date', 'Heure']].apply(lambda x: ' '.join(x.astype(str)), axis=1)\n",
    "    src.drop(\"Heure\", axis=1, inplace=True)\n",
    "    src[\"Date\"] = pd.to_datetime(src[\"Date\"], format='%d/%m/%Y %H:%M:%S')\n",
    "    #src = src.set_index(\"Date\")\n",
    "    return src"
   ]
  },
  {
   "cell_type": "code",
   "execution_count": 6,
   "metadata": {
    "scrolled": true
   },
   "outputs": [],
   "source": [
    "from ipywidgets import FloatProgress\n",
    "from IPython.display import display\n",
    "\n",
    "def generate_dataset(source):\n",
    "    f = FloatProgress(min=0, max=100, description=\"Data preprocessing: \", bar_style=\"info\")\n",
    "    display(f)\n",
    "    all_files = [f for f in listdir(cwd +\"\\\\\"+ source) if isfile(join(cwd +\"\\\\\"+ source, f))]\n",
    "    dataset = {}\n",
    "    for txt in all_files:\n",
    "        data_tmp = pd.read_csv(cwd +\"\\\\\"+ source + r\"\\\\\" + str(txt), sep=\";\", header = None)\n",
    "        if len(data_tmp.columns) == 2:\n",
    "            data_tmp.columns = [\"Date\", \"Valeur\"]\n",
    "            data_tmp = preprocess_2(data_tmp)\n",
    "        elif len(data_tmp.columns) == 3:\n",
    "            data_tmp.columns = [\"Date\", \"Heure\", \"Valeur\"]\n",
    "            data_tmp = preprocess_3(data_tmp)\n",
    "        data_tmp[\"Valeur\"] = data_tmp[\"Valeur\"].str.replace(\",\", \".\")\n",
    "        #dataset[str(txt)] = data_tmp.copy()\n",
    "        dataset[str(txt)] = data_tmp\n",
    "        f.value += 100/len(all_files)\n",
    "    print(\"Load \" + str(source) + \": Done\")\n",
    "    return dataset"
   ]
  },
  {
   "cell_type": "code",
   "execution_count": 7,
   "metadata": {
    "scrolled": true
   },
   "outputs": [
    {
     "data": {
      "application/vnd.jupyter.widget-view+json": {
       "model_id": "8437d9dd88b449eaafd99ed6fd3d54e7",
       "version_major": 2,
       "version_minor": 0
      },
      "text/plain": [
       "FloatProgress(value=0.0, bar_style='info', description='Data preprocessing: ')"
      ]
     },
     "metadata": {},
     "output_type": "display_data"
    },
    {
     "name": "stdout",
     "output_type": "stream",
     "text": [
      "Load csv\\GW: Done\n"
     ]
    },
    {
     "data": {
      "application/vnd.jupyter.widget-view+json": {
       "model_id": "eb4d99961b2041039537056415d6f019",
       "version_major": 2,
       "version_minor": 0
      },
      "text/plain": [
       "FloatProgress(value=0.0, bar_style='info', description='Data preprocessing: ')"
      ]
     },
     "metadata": {},
     "output_type": "display_data"
    },
    {
     "name": "stdout",
     "output_type": "stream",
     "text": [
      "Load csv\\RG\\precipiation_RG: Done\n"
     ]
    },
    {
     "data": {
      "application/vnd.jupyter.widget-view+json": {
       "model_id": "84849ae29d874a678e69bed87111f246",
       "version_major": 2,
       "version_minor": 0
      },
      "text/plain": [
       "FloatProgress(value=0.0, bar_style='info', description='Data preprocessing: ')"
      ]
     },
     "metadata": {},
     "output_type": "display_data"
    },
    {
     "name": "stdout",
     "output_type": "stream",
     "text": [
      "Load csv\\RG\\precipitation_1h_RG: Done\n"
     ]
    }
   ],
   "source": [
    "data_GW = generate_dataset(path_GW)\n",
    "data_RG_24 = generate_dataset(path_RG_24)\n",
    "data_RG_1 = generate_dataset(path_RG_1)"
   ]
  },
  {
   "cell_type": "code",
   "execution_count": 10,
   "metadata": {},
   "outputs": [],
   "source": [
    "for key, value in data_GW.items():\n",
    "    value.to_csv(\"csv_prepro\\GW\\\\\" + str(key[:-3])+ \"csv\", index=False, sep=\";\")\n",
    "for key, value in data_RG_24.items():\n",
    "    value.to_csv(\"csv_prepro\\RG\\precipiation_RG\\\\\" + str(key[:-3])+ \"csv\", index=False, sep=\";\")\n",
    "for key, value in data_RG_1.items():\n",
    "    value.to_csv(\"csv_prepro\\RG\\precipitation_1h_RG\\\\\" + str(key[:-3])+ \"csv\", index=False, sep=\";\")"
   ]
  }
 ],
 "metadata": {
  "kernelspec": {
   "display_name": "Python 3",
   "language": "python",
   "name": "python3"
  },
  "language_info": {
   "codemirror_mode": {
    "name": "ipython",
    "version": 3
   },
   "file_extension": ".py",
   "mimetype": "text/x-python",
   "name": "python",
   "nbconvert_exporter": "python",
   "pygments_lexer": "ipython3",
   "version": "3.6.4"
  }
 },
 "nbformat": 4,
 "nbformat_minor": 2
}
