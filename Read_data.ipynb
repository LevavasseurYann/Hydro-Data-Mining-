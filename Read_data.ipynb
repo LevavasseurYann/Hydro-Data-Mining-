{
 "cells": [
  {
   "cell_type": "markdown",
   "metadata": {},
   "source": [
    "# Fichier: LECTURE ET ANALYSE DES DATASETS\n",
    "### Importation des librairies"
   ]
  },
  {
   "cell_type": "code",
   "execution_count": null,
   "metadata": {},
   "outputs": [],
   "source": [
    "import os\n",
    "from IPython.core.interactiveshell import InteractiveShell\n",
    "InteractiveShell.ast_node_interactivity = \"all\"\n",
    "\n",
    "from plotly import __version__\n",
    "from plotly.offline import download_plotlyjs, init_notebook_mode, plot, iplot\n",
    "from plotly.offline.offline import _plot_html\n",
    "import plotly.graph_objs as go\n",
    "print (__version__) # requires version >= 1.9.0\n",
    "init_notebook_mode(connected=True)\n",
    "\n",
    "from mpl_toolkits import mplot3d\n",
    "import matplotlib.pylab as plt\n",
    "from matplotlib.pylab import rcParams\n",
    "%matplotlib notebook\n",
    "#%matplotlib inline\n",
    "\n",
    "from utils import series_supp as ss\n",
    "from utils import data_factory as df\n",
    "from utils import plot\n",
    "from utils import statics_func as sf"
   ]
  },
  {
   "cell_type": "code",
   "execution_count": null,
   "metadata": {},
   "outputs": [],
   "source": [
    "cwd = os.getcwd()\n",
    "os.chdir(cwd)\n",
    "print(cwd)\n",
    "factory = df.DataFactory(cwd)\n",
    "ploter = plot.Plot(None)\n",
    "\n",
    "RG24 = ss.SeriesSupp(cwd, factory, \"RG24\")\n",
    "RG1 = ss.SeriesSupp(cwd, factory, \"RG1\")\n",
    "GW = ss.SeriesSupp(cwd, factory, \"GW\")"
   ]
  },
  {
   "cell_type": "markdown",
   "metadata": {},
   "source": [
    "### Importation des datasets depuis les fichiers de stockage csv"
   ]
  },
  {
   "cell_type": "code",
   "execution_count": null,
   "metadata": {},
   "outputs": [],
   "source": [
    "GW.import_dataset()\n",
    "RG24.import_dataset()"
   ]
  },
  {
   "cell_type": "markdown",
   "metadata": {},
   "source": [
    "#### Parametres du plot\n",
    "Année et mois"
   ]
  },
  {
   "cell_type": "code",
   "execution_count": null,
   "metadata": {},
   "outputs": [],
   "source": [
    "#for k,v in GW.tmp_dataset.items():\n",
    "#    if len(v) > 168 or len(v) < 130:\n",
    "#        GW.tmp_dataset[k] = [0]"
   ]
  },
  {
   "cell_type": "code",
   "execution_count": null,
   "metadata": {},
   "outputs": [],
   "source": [
    "#for k,v in GW.tmp_dataset.items():\n",
    "#    print(str(k)+\" \"+str(len(v)))"
   ]
  },
  {
   "cell_type": "code",
   "execution_count": null,
   "metadata": {},
   "outputs": [],
   "source": [
    "ploter.change_mode(3)\n",
    "years, months = [2015], [3]\n",
    "\n",
    "GW.reset_dataset()\n",
    "#RG24.reset_dataset()\n",
    "\n",
    "GW.years = years\n",
    "#GW.months = months\n",
    "GW.reset_months()\n",
    "#GW.reset_years()\n",
    "\n",
    "#RG24.years = years\n",
    "#RG24.months = months\n",
    "#RG24.reset_months()\n",
    "#RG24.reset_years()\n",
    "\n",
    "GW.split_data_years()\n",
    "GW.split_data_months()\n",
    "#GW.split_data_weeks()\n",
    "\n",
    "#RG24.split_data_years()\n",
    "#RG24.split_data_months()\n",
    "#RG24.split_data_weeks()\n",
    "\n",
    "#RG24.dict_round()\n",
    "#GW.dict_round()\n",
    "\n",
    "#GW.dict_norm()\n",
    "#RG24.dict_norm()"
   ]
  },
  {
   "cell_type": "markdown",
   "metadata": {},
   "source": [
    "#### Plot RG"
   ]
  },
  {
   "cell_type": "code",
   "execution_count": null,
   "metadata": {},
   "outputs": [],
   "source": [
    "#ploter.plot_scatter(RG24.get_data())"
   ]
  },
  {
   "cell_type": "markdown",
   "metadata": {},
   "source": [
    "#### Plot GW"
   ]
  },
  {
   "cell_type": "code",
   "execution_count": null,
   "metadata": {},
   "outputs": [],
   "source": [
    "ploter.change_mode(3)"
   ]
  },
  {
   "cell_type": "code",
   "execution_count": null,
   "metadata": {
    "scrolled": true
   },
   "outputs": [],
   "source": [
    "for k,v in GW.tmp_dataset.items():\n",
    "    print(k)"
   ]
  },
  {
   "cell_type": "code",
   "execution_count": null,
   "metadata": {},
   "outputs": [],
   "source": [
    " cap = \"GW_203_2015_09\""
   ]
  },
  {
   "cell_type": "code",
   "execution_count": null,
   "metadata": {},
   "outputs": [],
   "source": [
    "ploter.plot_scatter_by_capteur(GW.get_data(), [cap])"
   ]
  },
  {
   "cell_type": "markdown",
   "metadata": {},
   "source": [
    "# Tests: Auto-correlation, Stationarité"
   ]
  },
  {
   "cell_type": "code",
   "execution_count": null,
   "metadata": {},
   "outputs": [],
   "source": [
    "import statsmodels.api as sm\n",
    "import pandas as pd"
   ]
  },
  {
   "cell_type": "code",
   "execution_count": null,
   "metadata": {},
   "outputs": [],
   "source": [
    "capV = GW.get_data()[cap]\n",
    "capV = capV.set_index(\"Date\")\n",
    "w = 24"
   ]
  },
  {
   "cell_type": "code",
   "execution_count": null,
   "metadata": {},
   "outputs": [],
   "source": [
    "capV.head(2)"
   ]
  },
  {
   "cell_type": "code",
   "execution_count": null,
   "metadata": {},
   "outputs": [],
   "source": [
    "#sf.test_stationarity(capV)"
   ]
  },
  {
   "cell_type": "code",
   "execution_count": null,
   "metadata": {},
   "outputs": [],
   "source": [
    "fig = plt.figure(figsize=(14,7))\n",
    "ax1 = fig.add_subplot(211)\n",
    "fig = sm.graphics.tsa.plot_acf(capV.values.squeeze(), lags=30, ax=ax1)\n",
    "ax2 = fig.add_subplot(212)\n",
    "fig = sm.graphics.tsa.plot_pacf(capV, lags=30, ax=ax2)"
   ]
  },
  {
   "cell_type": "code",
   "execution_count": null,
   "metadata": {},
   "outputs": [],
   "source": [
    "moving_avg = capV.rolling(window=w,center=False).mean()\n",
    "fig = plt.figure(figsize=(14,7))\n",
    "plt.plot(capV)\n",
    "plt.plot(moving_avg, color='red')"
   ]
  },
  {
   "cell_type": "code",
   "execution_count": null,
   "metadata": {},
   "outputs": [],
   "source": [
    "capV_moving_avg_diff = capV - moving_avg\n",
    "capV_moving_avg_diff.dropna(inplace=True)\n",
    "sf.test_stationarity(capV_moving_avg_diff, w)"
   ]
  },
  {
   "cell_type": "code",
   "execution_count": null,
   "metadata": {},
   "outputs": [],
   "source": [
    "#fig = plt.figure(figsize=(14,7))\n",
    "#ax1 = fig.add_subplot(211)\n",
    "#fig = sm.graphics.tsa.plot_acf(capV_moving_avg_diff.values.squeeze(), lags=24, ax=ax1)\n",
    "#ax2 = fig.add_subplot(212)\n",
    "#fig = sm.graphics.tsa.plot_pacf(capV_moving_avg_diff, lags=24, ax=ax2)"
   ]
  },
  {
   "cell_type": "code",
   "execution_count": null,
   "metadata": {},
   "outputs": [],
   "source": [
    "from statsmodels.tsa.seasonal import seasonal_decompose\n",
    "decomposition = seasonal_decompose(capV, freq=w)\n",
    "\n",
    "trend = decomposition.trend\n",
    "seasonal = decomposition.seasonal\n",
    "residual = decomposition.resid\n",
    "\n",
    "fig = plt.figure(figsize=(14,8))\n",
    "plt.subplot(411)\n",
    "plt.plot(capV, label='Original')\n",
    "plt.legend(loc='best')\n",
    "plt.subplot(412)\n",
    "plt.plot(trend, label='Trend')\n",
    "plt.legend(loc='best')\n",
    "plt.subplot(413)\n",
    "plt.plot(seasonal,label='Seasonality')\n",
    "plt.legend(loc='best')\n",
    "plt.subplot(414)\n",
    "plt.plot(residual, label='Residuals')\n",
    "plt.legend(loc='best')\n",
    "plt.tight_layout()\n",
    "plt.show()"
   ]
  },
  {
   "cell_type": "code",
   "execution_count": null,
   "metadata": {},
   "outputs": [],
   "source": []
  }
 ],
 "metadata": {
  "kernelspec": {
   "display_name": "Python 3",
   "language": "python",
   "name": "python3"
  },
  "language_info": {
   "codemirror_mode": {
    "name": "ipython",
    "version": 3
   },
   "file_extension": ".py",
   "mimetype": "text/x-python",
   "name": "python",
   "nbconvert_exporter": "python",
   "pygments_lexer": "ipython3",
   "version": "3.6.4"
  }
 },
 "nbformat": 4,
 "nbformat_minor": 2
}
