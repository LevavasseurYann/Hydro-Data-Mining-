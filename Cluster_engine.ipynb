{
 "cells": [
  {
   "cell_type": "markdown",
   "metadata": {},
   "source": [
    "# FILE: FRIENDLY KIT FOR RUN AND STORE CLUSTERS\n",
    "\n",
    "### Bunch of imports"
   ]
  },
  {
   "cell_type": "code",
   "execution_count": 1,
   "metadata": {},
   "outputs": [
    {
     "name": "stdout",
     "output_type": "stream",
     "text": [
      "2.5.1\n"
     ]
    },
    {
     "data": {
      "text/html": [
       "<script>requirejs.config({paths: { 'plotly': ['https://cdn.plot.ly/plotly-latest.min']},});if(!window.Plotly) {{require(['plotly'],function(plotly) {window.Plotly=plotly;});}}</script>"
      ],
      "text/vnd.plotly.v1+html": [
       "<script>requirejs.config({paths: { 'plotly': ['https://cdn.plot.ly/plotly-latest.min']},});if(!window.Plotly) {{require(['plotly'],function(plotly) {window.Plotly=plotly;});}}</script>"
      ]
     },
     "metadata": {},
     "output_type": "display_data"
    },
    {
     "data": {
      "text/html": [
       "<script>requirejs.config({paths: { 'plotly': ['https://cdn.plot.ly/plotly-latest.min']},});if(!window.Plotly) {{require(['plotly'],function(plotly) {window.Plotly=plotly;});}}</script>"
      ],
      "text/vnd.plotly.v1+html": [
       "<script>requirejs.config({paths: { 'plotly': ['https://cdn.plot.ly/plotly-latest.min']},});if(!window.Plotly) {{require(['plotly'],function(plotly) {window.Plotly=plotly;});}}</script>"
      ]
     },
     "metadata": {},
     "output_type": "display_data"
    }
   ],
   "source": [
    "import os\n",
    "from IPython.core.interactiveshell import InteractiveShell\n",
    "InteractiveShell.ast_node_interactivity = \"all\"\n",
    "\n",
    "from plotly import __version__\n",
    "from plotly.offline import download_plotlyjs, init_notebook_mode, plot, iplot\n",
    "from plotly.offline.offline import _plot_html\n",
    "import plotly.graph_objs as go\n",
    "print (__version__) # requires version >= 1.9.0\n",
    "init_notebook_mode(connected=True)\n",
    "\n",
    "from mpl_toolkits import mplot3d\n",
    "import matplotlib.pylab as plt\n",
    "from matplotlib.pylab import rcParams\n",
    "%matplotlib notebook\n",
    "#%matplotlib inline\n",
    "\n",
    "from utils import series_supp as ss\n",
    "from utils import data_factory as df\n",
    "from utils import k_mean as km\n",
    "from utils import k_shape as ks\n",
    "from utils.geo import Geo\n",
    "\n",
    "#from utils import api"
   ]
  },
  {
   "cell_type": "markdown",
   "metadata": {},
   "source": [
    "### Initiate factory and retrieve dataset"
   ]
  },
  {
   "cell_type": "code",
   "execution_count": 2,
   "metadata": {},
   "outputs": [
    {
     "name": "stdout",
     "output_type": "stream",
     "text": [
      "C:\\Users\\utilisateur\\workspace_stage\n"
     ]
    }
   ],
   "source": [
    "cwd = os.getcwd()\n",
    "os.chdir(cwd)\n",
    "print(cwd)\n",
    "factory = df.DataFactory(cwd)\n",
    "\n",
    "RG24 = ss.SeriesSupp(cwd, factory, \"RG24\")\n",
    "RG1 = ss.SeriesSupp(cwd, factory, \"RG1\")\n",
    "GW = ss.SeriesSupp(cwd, factory, \"GW\")\n",
    "geo = Geo(cwd)"
   ]
  },
  {
   "cell_type": "markdown",
   "metadata": {},
   "source": [
    "### Import dataset"
   ]
  },
  {
   "cell_type": "code",
   "execution_count": 3,
   "metadata": {},
   "outputs": [
    {
     "name": "stdout",
     "output_type": "stream",
     "text": [
      "Load csv_prepro\\GW: Done\n",
      "Load csv_prepro\\RG\\precipiation_RG: Done\n"
     ]
    }
   ],
   "source": [
    "GW.import_dataset()\n",
    "RG24.import_dataset()"
   ]
  },
  {
   "cell_type": "markdown",
   "metadata": {},
   "source": [
    "## Lancement de clustering avec hypers paramètres\n",
    "* reset_months: set the split to all months\n",
    "* set_size_min(n): n is the minimum ts length take for clustering\n",
    "* sampler(n): n is the size all the TS will be reduce\n",
    "+ all the sizes: 168/week - 744(31j)(743(30j)-696(29j)-672(28j))/month - 8760(8784)/year\n",
    "* j: the number of clusters\n",
    "* [i]: a list of years per clustering runs\n",
    "* split_data_*: split after the last word"
   ]
  },
  {
   "cell_type": "code",
   "execution_count": 4,
   "metadata": {},
   "outputs": [],
   "source": [
    "#clust = km.Kmean(GW)\n",
    "clust = ks.Kshape(GW)\n",
    "\n",
    "years = [[2011, 2012, 2013, 2014, 2015]]\n",
    "months = [[1, 2, 3, 4, 5, 12], [8, 9, 10, 11]]"
   ]
  },
  {
   "cell_type": "code",
   "execution_count": 5,
   "metadata": {
    "scrolled": true
   },
   "outputs": [
    {
     "name": "stdout",
     "output_type": "stream",
     "text": [
      "0.072 --> 0.055 --> 0.049 --> 0.047 --> 0.046 --> 0.045 --> 0.045 --> 0.044 --> 0.044 --> 0.044 --> 0.044 --> 0.043 --> 0.043 --> 0.043 --> 0.043 --> \n",
      "Kshape_GW_[2011, 2012, 2013, 2014, 2015][1, 2, 3, 4, 5, 12]_True_10\n",
      "0.087 --> 0.067 --> 0.052 --> 0.049 --> 0.048 --> 0.047 --> 0.047 --> 0.046 --> 0.045 --> 0.044 --> 0.044 --> 0.043 --> 0.043 --> 0.043 --> 0.043 --> 0.043 --> \n",
      "Kshape_GW_[2011, 2012, 2013, 2014, 2015][8, 9, 10, 11]_True_10\n",
      "0.073 --> 0.054 --> 0.044 --> 0.040 --> 0.038 --> 0.038 --> 0.037 --> 0.037 --> 0.037 --> \n",
      "Kshape_GW_[2011, 2012, 2013, 2014, 2015][1, 2, 3, 4, 5, 12]_True_15\n",
      "0.089 --> 0.058 --> 0.046 --> 0.042 --> 0.040 --> 0.040 --> 0.040 --> 0.040 --> 0.040 --> \n",
      "Kshape_GW_[2011, 2012, 2013, 2014, 2015][8, 9, 10, 11]_True_15\n"
     ]
    }
   ],
   "source": [
    "#clust.ss.reset_months()\n",
    "#clust.ss.reset_years()\n",
    "\n",
    "clust.set_size_min(134)\n",
    "clust.sampler = 134\n",
    "\n",
    "clust.store_path = \"cluster//29_06//\"\n",
    "for j in [10, 15]:\n",
    "    for i in years:\n",
    "        for m in months:\n",
    "            clust.ss.reset_dataset()\n",
    "            clust.ss.years = i\n",
    "            clust.ss.months = m\n",
    "\n",
    "            # Les trois découpages à commenter ou décommenter selon le besoin\n",
    "            clust.ss.split_data_years()\n",
    "            clust.ss.split_data_months()\n",
    "            clust.ss.split_data_weeks()\n",
    "\n",
    "            # Round 0.1\n",
    "            # Normalisation mean = 0 standard deviation = 1\n",
    "            #clust.ss.dict_round()\n",
    "            clust.ss.dict_norm()\n",
    "\n",
    "            # Format de librairie de dimention 1\n",
    "            clust.tslearn_format_export()\n",
    "\n",
    "            # Nombre de clusters\n",
    "            clust.n = j\n",
    "\n",
    "            # Initialise l'algo\n",
    "            clust.k_init()\n",
    "            # Clusterise le contenu (self.ts) de l'instance clust\n",
    "            clust.k_fit()\n",
    "\n",
    "            # Methode de stockage du cluster généré\n",
    "            clust.store_cluster(str(clust.clust_name) +\"_\"+ str(clust.ss.dataset_name) +\"_\"+ str(i) + str(m) +\"_\"+ str(clust.ss.days) +\"_\"+ str(clust.n))\n",
    "            print(str(clust.clust_name) +\"_\"+ str(clust.ss.dataset_name) +\"_\"+ str(i) + str(m) +\"_\"+ str(clust.ss.days) +\"_\"+ str(clust.n))\n"
   ]
  },
  {
   "cell_type": "markdown",
   "metadata": {},
   "source": [
    "## Vestiges et morceaux de code"
   ]
  },
  {
   "cell_type": "code",
   "execution_count": 6,
   "metadata": {},
   "outputs": [],
   "source": [
    "#years = [2015]\n",
    "#months = [1]\n",
    "\n",
    "#GW.years, RG24.years = years, years\n",
    "#GW.months, RG24.months = months, months\n",
    "#RG24.reset_months()\n",
    "\n",
    "#GW.split_data_years()\n",
    "#RG24.split_data_years()\n",
    "\n",
    "#GW.split_data_months()\n",
    "#RG24.split_data_months()\n",
    "\n",
    "#GW.split_data_weeks()\n",
    "#RG24.split_data_weeks()\n",
    "\n",
    "#GW.dict_norm()\n",
    "#RG24.dict_norm()\n",
    "\n",
    "#clust.tslearn_format_export()\n",
    "#print(len(clust.ts))\n",
    "#print(len(clust.ss.tmp_dataset))\n",
    "\n",
    "#clust_RG = km.Kmean(RG24)\n",
    "\n",
    "#GW.reset_months()\n",
    "\n",
    "#clust = ks.Kshape(GW)\n",
    "#clust = km.Kmean(GW)\n",
    "\n",
    "#clust.store_path = \"cluster/19_06/\"\n",
    "#clust.set_size_min(80)\n",
    "#clust.sampler = 80\n",
    "\n",
    "#i = [2015]\n",
    "#clust.ss.reset_dataset()\n",
    "#clust.ss.years = i\n",
    "#clust.ss.split_data_years()\n",
    "#clust.ss.split_data_months()\n",
    "#clust.ss.split_data_weeks()\n",
    "#clust.ss.dict_norm()\n",
    "#clust.tslearn_format_export()\n",
    "\n",
    "#clust.tslearn_format_export()\n",
    "\n",
    "#clust.n = 9\n",
    "\n",
    "#clust.km = KShape(clust.n, verbose = True, random_state = clust.seed)\n",
    "#clust.ts_clust = clust.km.fit_predict(clust.ts)\n",
    "\n",
    "#clust.km = TimeSeriesKMeans(n_clusters = clust.n, metric = \"softdtw\", metric_params = {\"gamma_sdtw\": .01}, verbose = True)\n",
    "#clust.ts_clust = clust.km.fit_predict(clust.ts)\n",
    "\n",
    "#clust.store_cluster(str(clust.clust_name) +\"_\"+ str(clust.ss.dataset_name) +\"_\"+ str(i) + str(clust.ss.months) +\"_\"+ str(clust.ss.days) +\"_\"+ str(clust.n))\n",
    "\n",
    "#clust.ts\n",
    "#clust.ts_clust\n",
    "\n",
    "#clust = ks.Kshape(GW)\n",
    "#clust.store_path = \"cluster/19_06/\"\n",
    "#clust.set_size_min(80)\n",
    "#clust.sampler = 80\n",
    "\n",
    "#clust.tslearn_format_export()\n",
    "\n",
    "#clust.n = 9\n",
    "#clust.km = KShape(clust.n, verbose = True, random_state = clust.seed)\n",
    "#clust.ts_clust = clust.km.fit_predict(clust.ts)\n",
    "#clust.store_cluster(str(clust.clust_name) +\"_\"+ str(clust.ss.dataset_name) +\"_\"+ str(i) + str(clust.ss.months) +\"_\"+ str(clust.ss.days) +\"_\"+ str(clust.n))\n",
    "\n",
    "#clust.ts\n",
    "#clust.ts_clust"
   ]
  }
 ],
 "metadata": {
  "kernelspec": {
   "display_name": "Python 3",
   "language": "python",
   "name": "python3"
  },
  "language_info": {
   "codemirror_mode": {
    "name": "ipython",
    "version": 3
   },
   "file_extension": ".py",
   "mimetype": "text/x-python",
   "name": "python",
   "nbconvert_exporter": "python",
   "pygments_lexer": "ipython3",
   "version": "3.6.4"
  }
 },
 "nbformat": 4,
 "nbformat_minor": 2
}
