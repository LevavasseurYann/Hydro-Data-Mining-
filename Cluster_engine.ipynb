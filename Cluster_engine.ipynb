{
 "cells": [
  {
   "cell_type": "code",
   "execution_count": 1,
   "metadata": {},
   "outputs": [
    {
     "name": "stdout",
     "output_type": "stream",
     "text": [
      "2.5.1\n"
     ]
    },
    {
     "data": {
      "text/html": [
       "<script>requirejs.config({paths: { 'plotly': ['https://cdn.plot.ly/plotly-latest.min']},});if(!window.Plotly) {{require(['plotly'],function(plotly) {window.Plotly=plotly;});}}</script>"
      ],
      "text/vnd.plotly.v1+html": [
       "<script>requirejs.config({paths: { 'plotly': ['https://cdn.plot.ly/plotly-latest.min']},});if(!window.Plotly) {{require(['plotly'],function(plotly) {window.Plotly=plotly;});}}</script>"
      ]
     },
     "metadata": {},
     "output_type": "display_data"
    },
    {
     "data": {
      "text/html": [
       "<script>requirejs.config({paths: { 'plotly': ['https://cdn.plot.ly/plotly-latest.min']},});if(!window.Plotly) {{require(['plotly'],function(plotly) {window.Plotly=plotly;});}}</script>"
      ],
      "text/vnd.plotly.v1+html": [
       "<script>requirejs.config({paths: { 'plotly': ['https://cdn.plot.ly/plotly-latest.min']},});if(!window.Plotly) {{require(['plotly'],function(plotly) {window.Plotly=plotly;});}}</script>"
      ]
     },
     "metadata": {},
     "output_type": "display_data"
    }
   ],
   "source": [
    "import os\n",
    "from IPython.core.interactiveshell import InteractiveShell\n",
    "InteractiveShell.ast_node_interactivity = \"all\"\n",
    "\n",
    "from plotly import __version__\n",
    "from plotly.offline import download_plotlyjs, init_notebook_mode, plot, iplot\n",
    "from plotly.offline.offline import _plot_html\n",
    "import plotly.graph_objs as go\n",
    "print (__version__) # requires version >= 1.9.0\n",
    "init_notebook_mode(connected=True)\n",
    "\n",
    "from mpl_toolkits import mplot3d\n",
    "import matplotlib.pylab as plt\n",
    "from matplotlib.pylab import rcParams\n",
    "%matplotlib notebook\n",
    "#%matplotlib inline\n",
    "from utils import series_supp as ss\n",
    "from utils import data_factory as df\n",
    "from utils import k_mean as km\n",
    "from utils import k_shape as ks"
   ]
  },
  {
   "cell_type": "code",
   "execution_count": 2,
   "metadata": {},
   "outputs": [
    {
     "name": "stdout",
     "output_type": "stream",
     "text": [
      "C:\\Users\\utilisateur\\workspace_stage\n"
     ]
    }
   ],
   "source": [
    "cwd = os.getcwd()\n",
    "os.chdir(cwd)\n",
    "print(cwd)\n",
    "factory = df.DataFactory(cwd)\n",
    "\n",
    "RG24 = ss.SeriesSupp(cwd, factory, \"RG24\")\n",
    "RG1 = ss.SeriesSupp(cwd, factory, \"RG1\")\n",
    "GW = ss.SeriesSupp(cwd, factory, \"GW\")"
   ]
  },
  {
   "cell_type": "code",
   "execution_count": 3,
   "metadata": {},
   "outputs": [
    {
     "name": "stdout",
     "output_type": "stream",
     "text": [
      "Load csv_prepro\\GW: Done\n",
      "Load csv_prepro\\RG\\precipiation_RG: Done\n"
     ]
    }
   ],
   "source": [
    "GW.import_dataset()\n",
    "RG24.import_dataset()"
   ]
  },
  {
   "cell_type": "code",
   "execution_count": 4,
   "metadata": {},
   "outputs": [],
   "source": [
    "#years = [2015]\n",
    "#months = [1]\n",
    "\n",
    "#GW.years, RG24.years = years, years\n",
    "#GW.months, RG24.months = months, months\n",
    "#RG24.reset_months()\n",
    "\n",
    "#GW.split_data_years()\n",
    "#RG24.split_data_years()\n",
    "\n",
    "#GW.split_data_months()\n",
    "#RG24.split_data_months()\n",
    "\n",
    "#GW.split_data_weeks()\n",
    "#RG24.split_data_weeks()\n",
    "\n",
    "#GW.dict_norm()\n",
    "#RG24.dict_norm()\n",
    "\n",
    "#clust.tslearn_format_export()\n",
    "#print(len(clust.ts))\n",
    "#print(len(clust.ss.tmp_dataset))\n",
    "\n",
    "#clust_RG = km.Kmean(RG24)"
   ]
  },
  {
   "cell_type": "code",
   "execution_count": 5,
   "metadata": {},
   "outputs": [],
   "source": [
    "from tslearn.clustering import KShape\n",
    "from tslearn.clustering import TimeSeriesKMeans"
   ]
  },
  {
   "cell_type": "code",
   "execution_count": 6,
   "metadata": {},
   "outputs": [
    {
     "name": "stdout",
     "output_type": "stream",
     "text": [
      "Resumed because of empty cluster\n",
      "0.082 --> 0.050 --> 0.044 --> 0.045 --> \n",
      "0.178 --> 0.152 --> 0.187 --> \n",
      "0.106 --> 0.085 --> 0.064 --> 0.059 --> 0.058 --> 0.057 --> 0.057 --> 0.057 --> \n",
      "0.104 --> 0.087 --> 0.078 --> 0.076 --> 0.074 --> 0.072 --> 0.071 --> 0.071 --> 0.070 --> 0.070 --> 0.070 --> 0.069 --> 0.069 --> 0.069 --> 0.069 --> 0.069 --> 0.069 --> 0.068 --> 0.068 --> 0.068 --> \n",
      "0.144 --> 0.131 --> 0.124 --> 0.120 --> 0.117 --> 0.125 --> \n",
      "Resumed because of empty cluster\n",
      "Resumed because of empty cluster\n",
      "Resumed because of empty cluster\n",
      "Resumed because of empty cluster\n",
      "Resumed because of empty cluster\n",
      "Resumed because of empty cluster\n",
      "Resumed because of empty cluster\n",
      "Resumed because of empty cluster\n",
      "Resumed because of empty cluster\n",
      "Resumed because of empty cluster\n",
      "0.139 --> 0.148 --> \n",
      "0.085 --> 0.047 --> 0.041 --> 0.040 --> 0.039 --> 0.039 --> 0.038 --> 0.038 --> 0.039 --> \n",
      "0.097 --> 0.073 --> 0.060 --> 0.057 --> 0.055 --> 0.054 --> 0.053 --> 0.053 --> 0.052 --> 0.051 --> 0.050 --> 0.050 --> 0.049 --> 0.048 --> 0.048 --> 0.048 --> 0.048 --> \n",
      "0.128 --> 0.120 --> 0.127 --> \n",
      "Resumed because of empty cluster\n",
      "Resumed because of empty cluster\n",
      "Resumed because of empty cluster\n",
      "Resumed because of empty cluster\n",
      "Resumed because of empty cluster\n",
      "Resumed because of empty cluster\n",
      "Resumed because of empty cluster\n",
      "Resumed because of empty cluster\n",
      "Resumed because of empty cluster\n",
      "Resumed because of empty cluster\n",
      "0.110 --> 0.128 --> \n",
      "0.065 --> 0.042 --> 0.040 --> 0.039 --> 0.037 --> 0.035 --> 0.034 --> 0.034 --> 0.034 --> 0.034 --> \n",
      "0.092 --> 0.059 --> 0.051 --> 0.048 --> 0.046 --> 0.045 --> 0.045 --> 0.044 --> 0.043 --> 0.043 --> 0.043 --> 0.043 --> 0.042 --> 0.042 --> 0.042 --> 0.042 --> 0.042 --> 0.041 --> 0.041 --> \n",
      "0.144 --> 0.147 --> \n",
      "Resumed because of empty cluster\n",
      "Resumed because of empty cluster\n",
      "Resumed because of empty cluster\n",
      "Resumed because of empty cluster\n",
      "Resumed because of empty cluster\n",
      "Resumed because of empty cluster\n",
      "Resumed because of empty cluster\n",
      "Resumed because of empty cluster\n",
      "Resumed because of empty cluster\n",
      "Resumed because of empty cluster\n",
      "0.169 --> 0.118 --> 0.114 --> 0.117 --> \n",
      "0.065 --> 0.039 --> 0.033 --> 0.031 --> 0.030 --> 0.029 --> 0.029 --> 0.029 --> 0.029 --> 0.028 --> 0.028 --> 0.027 --> 0.027 --> 0.027 --> \n",
      "0.082 --> 0.056 --> 0.047 --> 0.045 --> 0.044 --> 0.044 --> 0.043 --> 0.042 --> 0.040 --> 0.040 --> 0.039 --> 0.039 --> 0.038 --> 0.038 --> \n",
      "0.116 --> 0.113 --> 0.127 --> \n"
     ]
    }
   ],
   "source": [
    "GW.reset_months()\n",
    "\n",
    "#clust = km.Kmean(GW)\n",
    "clust = ks.Kshape(GW)\n",
    "\n",
    "clust.set_size_min(80)\n",
    "clust.sampler = 80\n",
    "\n",
    "for j in [5, 10, 15, 20]:\n",
    "    for i in [[2011], [2012], [2013], [2014], [2015]]:\n",
    "        clust.ss.reset_dataset()\n",
    "        clust.ss.years = i\n",
    "\n",
    "        clust.ss.split_data_years()\n",
    "        clust.ss.split_data_months()\n",
    "        clust.ss.split_data_weeks()\n",
    "\n",
    "        clust.ss.dict_norm()\n",
    "\n",
    "        clust.tslearn_format_export()\n",
    "\n",
    "        clust.n = j\n",
    "\n",
    "        clust.km = KShape(clust.n, verbose = True, random_state = clust.seed)\n",
    "        clust.ts_clust = clust.km.fit_predict(clust.ts)\n",
    "\n",
    "        clust.store_cluster(str(clust.clust_name) +\"_\"+ str(clust.ss.dataset_name) +\"_\"+ str(i) + str(clust.ss.months) +\"_\"+ str(clust.ss.days) +\"_\"+ str(clust.n))\n",
    "\n",
    "    "
   ]
  },
  {
   "cell_type": "code",
   "execution_count": 7,
   "metadata": {},
   "outputs": [],
   "source": [
    "#GW.reset_months()\n",
    "\n",
    "#clust = ks.Kshape(GW)\n",
    "#clust = km.Kmean(GW)\n",
    "\n",
    "#clust.store_path = \"cluster/19_06/\"\n",
    "#clust.set_size_min(80)\n",
    "#clust.sampler = 80"
   ]
  },
  {
   "cell_type": "code",
   "execution_count": 8,
   "metadata": {},
   "outputs": [],
   "source": [
    "#i = [2015]\n",
    "#clust.ss.reset_dataset()\n",
    "#clust.ss.years = i\n",
    "#clust.ss.split_data_years()\n",
    "#clust.ss.split_data_months()\n",
    "#clust.ss.split_data_weeks()\n",
    "#clust.ss.dict_norm()\n",
    "#clust.tslearn_format_export()"
   ]
  },
  {
   "cell_type": "code",
   "execution_count": 9,
   "metadata": {},
   "outputs": [],
   "source": [
    "#clust.tslearn_format_export()"
   ]
  },
  {
   "cell_type": "code",
   "execution_count": 10,
   "metadata": {},
   "outputs": [],
   "source": [
    "#clust.n = 9\n",
    "\n",
    "#clust.km = KShape(clust.n, verbose = True, random_state = clust.seed)\n",
    "#clust.ts_clust = clust.km.fit_predict(clust.ts)\n",
    "\n",
    "#clust.km = TimeSeriesKMeans(n_clusters = clust.n, metric = \"softdtw\", metric_params = {\"gamma_sdtw\": .01}, verbose = True)\n",
    "#clust.ts_clust = clust.km.fit_predict(clust.ts)\n",
    "\n",
    "#clust.store_cluster(str(clust.clust_name) +\"_\"+ str(clust.ss.dataset_name) +\"_\"+ str(i) + str(clust.ss.months) +\"_\"+ str(clust.ss.days) +\"_\"+ str(clust.n))"
   ]
  },
  {
   "cell_type": "code",
   "execution_count": 11,
   "metadata": {},
   "outputs": [],
   "source": [
    "#clust.ts\n",
    "#clust.ts_clust"
   ]
  },
  {
   "cell_type": "code",
   "execution_count": 12,
   "metadata": {},
   "outputs": [],
   "source": [
    "#clust = ks.Kshape(GW)\n",
    "#clust.store_path = \"cluster/19_06/\"\n",
    "#clust.set_size_min(80)\n",
    "#clust.sampler = 80"
   ]
  },
  {
   "cell_type": "code",
   "execution_count": 13,
   "metadata": {},
   "outputs": [],
   "source": [
    "#clust.tslearn_format_export()"
   ]
  },
  {
   "cell_type": "code",
   "execution_count": 14,
   "metadata": {},
   "outputs": [],
   "source": [
    "#clust.n = 9\n",
    "#clust.km = KShape(clust.n, verbose = True, random_state = clust.seed)\n",
    "#clust.ts_clust = clust.km.fit_predict(clust.ts)\n",
    "#clust.store_cluster(str(clust.clust_name) +\"_\"+ str(clust.ss.dataset_name) +\"_\"+ str(i) + str(clust.ss.months) +\"_\"+ str(clust.ss.days) +\"_\"+ str(clust.n))"
   ]
  },
  {
   "cell_type": "code",
   "execution_count": 15,
   "metadata": {},
   "outputs": [],
   "source": [
    "#clust.ts\n",
    "#clust.ts_clust"
   ]
  },
  {
   "cell_type": "code",
   "execution_count": null,
   "metadata": {},
   "outputs": [],
   "source": []
  }
 ],
 "metadata": {
  "kernelspec": {
   "display_name": "Python 3",
   "language": "python",
   "name": "python3"
  },
  "language_info": {
   "codemirror_mode": {
    "name": "ipython",
    "version": 3
   },
   "file_extension": ".py",
   "mimetype": "text/x-python",
   "name": "python",
   "nbconvert_exporter": "python",
   "pygments_lexer": "ipython3",
   "version": "3.6.4"
  }
 },
 "nbformat": 4,
 "nbformat_minor": 2
}
