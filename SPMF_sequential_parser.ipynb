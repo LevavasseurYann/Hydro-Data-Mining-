{
 "cells": [
  {
   "cell_type": "code",
   "execution_count": null,
   "metadata": {},
   "outputs": [],
   "source": [
    "import os\n",
    "from utils import series_supp as ss\n",
    "from utils import data_factory as df\n",
    "from prefixspan import PrefixSpan\n",
    "from utils import sax_engine as sq\n",
    "from utils import prefix_span as ps\n",
    "from utils import pygapbide as pygb\n",
    "from utils import parser\n",
    "from utils import cluster_ts as ks"
   ]
  },
  {
   "cell_type": "code",
   "execution_count": null,
   "metadata": {},
   "outputs": [],
   "source": [
    "cwd = os.getcwd()\n",
    "os.chdir(cwd)\n",
    "print(cwd)\n",
    "factory = df.DataFactory(cwd)\n",
    "GW = ss.SeriesSupp(cwd, factory, \"GW\")"
   ]
  },
  {
   "cell_type": "code",
   "execution_count": null,
   "metadata": {},
   "outputs": [],
   "source": [
    "GW.import_dataset()\n",
    "se = sq.SaxEngine(10, 50)"
   ]
  },
  {
   "cell_type": "code",
   "execution_count": null,
   "metadata": {},
   "outputs": [],
   "source": [
    "se.reset()\n",
    "GW.reset_dataset()"
   ]
  },
  {
   "cell_type": "code",
   "execution_count": null,
   "metadata": {},
   "outputs": [],
   "source": [
    "GW.years = [2015]\n",
    "#GW.months = [1, 2, 3, 4, 5]\n",
    "GW.reset_months()\n",
    "GW.split_data_years()\n",
    "#GW.split_data_months()\n",
    "GW.split_data_weeks()\n",
    "GW.dict_norm()"
   ]
  },
  {
   "cell_type": "code",
   "execution_count": null,
   "metadata": {},
   "outputs": [],
   "source": [
    "all_ts = GW.get_data_from_captor(\"GW_126\")"
   ]
  },
  {
   "cell_type": "code",
   "execution_count": null,
   "metadata": {},
   "outputs": [],
   "source": [
    "GW_supp = ks.ClusterTs(GW)"
   ]
  },
  {
   "cell_type": "code",
   "execution_count": null,
   "metadata": {},
   "outputs": [],
   "source": [
    "GW_supp.tslearn_format_export(all_ts)"
   ]
  },
  {
   "cell_type": "code",
   "execution_count": null,
   "metadata": {},
   "outputs": [],
   "source": [
    "all_ts_exported = GW_supp.ts.copy()"
   ]
  },
  {
   "cell_type": "code",
   "execution_count": null,
   "metadata": {},
   "outputs": [],
   "source": [
    "se.fit(all_ts_exported)\n",
    "se.run()"
   ]
  },
  {
   "cell_type": "code",
   "execution_count": null,
   "metadata": {},
   "outputs": [],
   "source": [
    "parser_global = parser.Parser()"
   ]
  },
  {
   "cell_type": "code",
   "execution_count": null,
   "metadata": {},
   "outputs": [],
   "source": [
    "file_expo = parser_global.sax_to_spmf(data = se.sax_data)"
   ]
  },
  {
   "cell_type": "code",
   "execution_count": null,
   "metadata": {},
   "outputs": [],
   "source": [
    "with open(\"testfile.txt\", \"w\") as file:\n",
    "    for elmt in se.sax_data:\n",
    "        line_file = parser_global.sax_to_spmf(data = elmt)\n",
    "        file.write(line_file + \"\\n\")"
   ]
  },
  {
   "cell_type": "code",
   "execution_count": null,
   "metadata": {},
   "outputs": [],
   "source": [
    "with open(\"testfile.txt\", \"w\") as file:\n",
    "    for name in GW_supp.ts_name:\n",
    "        ts = GW_supp.ss.get_data_from_captor(name)\n",
    "        GW_supp.tslearn_format_export(ts)\n",
    "        ts = GW_supp.ts\n",
    "        #se.reset()\n",
    "        #se.fit(ts)\n",
    "        #se.run()\n",
    "        #file_expo = parser.sax_to_spmf(data = se.sax_data)\n",
    "        print(name)\n",
    "        print(ts)\n",
    "        print()\n",
    "        #file.write(file_expo)"
   ]
  },
  {
   "cell_type": "code",
   "execution_count": null,
   "metadata": {},
   "outputs": [],
   "source": []
  }
 ],
 "metadata": {
  "kernelspec": {
   "display_name": "Python 3",
   "language": "python",
   "name": "python3"
  },
  "language_info": {
   "codemirror_mode": {
    "name": "ipython",
    "version": 3
   },
   "file_extension": ".py",
   "mimetype": "text/x-python",
   "name": "python",
   "nbconvert_exporter": "python",
   "pygments_lexer": "ipython3",
   "version": "3.6.4"
  }
 },
 "nbformat": 4,
 "nbformat_minor": 2
}
