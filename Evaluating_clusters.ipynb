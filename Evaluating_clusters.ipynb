{
 "cells": [
  {
   "cell_type": "code",
   "execution_count": 23,
   "metadata": {},
   "outputs": [
    {
     "name": "stdout",
     "output_type": "stream",
     "text": [
      "-0.09812010639103297\n"
     ]
    }
   ],
   "source": [
    "from tslearn.clustering import silhouette_score\n",
    "\n",
    "ts = [[1, 2, 3], [4, 5, 6, 7], [8, 7, 4, 3, 2, 1]]\n",
    "labels = [1, 0, 1]\n",
    "print(silhouette_score(ts, labels, metric=\"dtw\"))"
   ]
  },
  {
   "cell_type": "code",
   "execution_count": null,
   "metadata": {},
   "outputs": [],
   "source": []
  }
 ],
 "metadata": {
  "kernelspec": {
   "display_name": "Python 3",
   "language": "python",
   "name": "python3"
  },
  "language_info": {
   "codemirror_mode": {
    "name": "ipython",
    "version": 3
   },
   "file_extension": ".py",
   "mimetype": "text/x-python",
   "name": "python",
   "nbconvert_exporter": "python",
   "pygments_lexer": "ipython3",
   "version": "3.6.4"
  }
 },
 "nbformat": 4,
 "nbformat_minor": 2
}
