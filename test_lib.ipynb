{
 "cells": [
  {
   "cell_type": "code",
   "execution_count": 1,
   "metadata": {},
   "outputs": [
    {
     "name": "stdout",
     "output_type": "stream",
     "text": [
      "2.5.1\n"
     ]
    },
    {
     "data": {
      "text/html": [
       "<script>requirejs.config({paths: { 'plotly': ['https://cdn.plot.ly/plotly-latest.min']},});if(!window.Plotly) {{require(['plotly'],function(plotly) {window.Plotly=plotly;});}}</script>"
      ],
      "text/vnd.plotly.v1+html": [
       "<script>requirejs.config({paths: { 'plotly': ['https://cdn.plot.ly/plotly-latest.min']},});if(!window.Plotly) {{require(['plotly'],function(plotly) {window.Plotly=plotly;});}}</script>"
      ]
     },
     "metadata": {},
     "output_type": "display_data"
    },
    {
     "data": {
      "text/html": [
       "<script>requirejs.config({paths: { 'plotly': ['https://cdn.plot.ly/plotly-latest.min']},});if(!window.Plotly) {{require(['plotly'],function(plotly) {window.Plotly=plotly;});}}</script>"
      ],
      "text/vnd.plotly.v1+html": [
       "<script>requirejs.config({paths: { 'plotly': ['https://cdn.plot.ly/plotly-latest.min']},});if(!window.Plotly) {{require(['plotly'],function(plotly) {window.Plotly=plotly;});}}</script>"
      ]
     },
     "metadata": {},
     "output_type": "display_data"
    }
   ],
   "source": [
    "import os\n",
    "from IPython.core.interactiveshell import InteractiveShell\n",
    "InteractiveShell.ast_node_interactivity = \"all\"\n",
    "\n",
    "from plotly import __version__\n",
    "from plotly.offline import download_plotlyjs, init_notebook_mode, plot, iplot\n",
    "from plotly.offline.offline import _plot_html\n",
    "import plotly.graph_objs as go\n",
    "print (__version__) # requires version >= 1.9.0\n",
    "init_notebook_mode(connected=True)\n",
    "\n",
    "from mpl_toolkits import mplot3d\n",
    "import matplotlib.pylab as plt\n",
    "from matplotlib.pylab import rcParams\n",
    "%matplotlib notebook\n",
    "#%matplotlib inline\n",
    "from utils import series_supp as ss\n",
    "from utils import data_factory as df\n",
    "from utils import k_mean as km"
   ]
  },
  {
   "cell_type": "code",
   "execution_count": 2,
   "metadata": {},
   "outputs": [
    {
     "name": "stdout",
     "output_type": "stream",
     "text": [
      "C:\\Users\\utilisateur\\Workspace_lab\n"
     ]
    }
   ],
   "source": [
    "cwd = os.getcwd()\n",
    "os.chdir(cwd)\n",
    "print(cwd)\n",
    "factory = df.DataFactory(cwd)\n",
    "\n",
    "RG24 = ss.SeriesSupp(cwd, factory, \"RG24\")\n",
    "RG1 = ss.SeriesSupp(cwd, factory, \"RG1\")\n",
    "GW = ss.SeriesSupp(cwd, factory, \"GW\")"
   ]
  },
  {
   "cell_type": "code",
   "execution_count": 3,
   "metadata": {},
   "outputs": [
    {
     "name": "stdout",
     "output_type": "stream",
     "text": [
      "Load csv_prepro\\GW: Done\n",
      "Load csv_prepro\\RG\\precipiation_RG: Done\n"
     ]
    }
   ],
   "source": [
    "GW.import_dataset()\n",
    "RG24.import_dataset()"
   ]
  },
  {
   "cell_type": "code",
   "execution_count": 4,
   "metadata": {},
   "outputs": [],
   "source": [
    "#years = [2015]\n",
    "#months = [1]\n",
    "\n",
    "#GW.years, RG24.years = years, years\n",
    "#GW.months, RG24.months = months, months\n",
    "#RG24.reset_months()\n",
    "\n",
    "#GW.split_data_years()\n",
    "#RG24.split_data_years()\n",
    "\n",
    "#GW.split_data_months()\n",
    "#RG24.split_data_months()\n",
    "\n",
    "#GW.split_data_weeks()\n",
    "#RG24.split_data_weeks()\n",
    "\n",
    "#GW.dict_norm()\n",
    "#RG24.dict_norm()\n",
    "\n",
    "#clust.tslearn_format_export()\n",
    "#print(len(clust.ts))\n",
    "#print(len(clust.ss.tmp_dataset))\n",
    "\n",
    "#clust_RG = km.Kmean(RG24)"
   ]
  },
  {
   "cell_type": "code",
   "execution_count": 5,
   "metadata": {},
   "outputs": [
    {
     "name": "stdout",
     "output_type": "stream",
     "text": [
      "21646.142 --> 5869.223 --> 5752.113 --> 5625.548 --> 5518.227 --> 5550.640 --> 5530.429 --> 5530.429 --> \n"
     ]
    }
   ],
   "source": [
    "GW.reset_months()\n",
    "clust = km.Kmean(GW)\n",
    "clust.set_size_min(300)\n",
    "from tslearn.clustering import TimeSeriesKMeans\n",
    "clust.sampler = 350\n",
    "for i in [[2013, 2012]]:\n",
    "    clust.ss.reset_dataset()\n",
    "    clust.ss.years = i\n",
    "    clust.ss.split_data_years()\n",
    "    clust.ss.split_data_months()\n",
    "    #clust.ss.split_data_weeks()\n",
    "    clust.ss.dict_norm()\n",
    "    clust.tslearn_format_export()\n",
    "    clust.n = 4\n",
    "    clust.km = TimeSeriesKMeans(n_clusters = clust.n, metric = \"softdtw\", metric_params = {\"gamma_sdtw\": .01}, verbose = True)\n",
    "    clust.ts_clust = clust.km.fit_predict(clust.ts)\n",
    "    #clust.proto = False\n",
    "\n",
    "    clust.store_cluster(\"kmean_\" + str(i) + \"_allmonths\" + str(clust.n))"
   ]
  },
  {
   "cell_type": "code",
   "execution_count": null,
   "metadata": {},
   "outputs": [],
   "source": []
  }
 ],
 "metadata": {
  "kernelspec": {
   "display_name": "Python 3",
   "language": "python",
   "name": "python3"
  },
  "language_info": {
   "codemirror_mode": {
    "name": "ipython",
    "version": 3
   },
   "file_extension": ".py",
   "mimetype": "text/x-python",
   "name": "python",
   "nbconvert_exporter": "python",
   "pygments_lexer": "ipython3",
   "version": "3.6.4"
  }
 },
 "nbformat": 4,
 "nbformat_minor": 2
}
