{
 "cells": [
  {
   "cell_type": "markdown",
   "metadata": {},
   "source": [
    "# Fichier: LECTURE ET ANALYSE DES CLUSTERS EN STOCK\n",
    "### Importation des librairies"
   ]
  },
  {
   "cell_type": "code",
   "execution_count": null,
   "metadata": {},
   "outputs": [],
   "source": [
    "import os\n",
    "from IPython.core.interactiveshell import InteractiveShell\n",
    "InteractiveShell.ast_node_interactivity = \"all\"\n",
    "\n",
    "from plotly import __version__\n",
    "from plotly.offline import download_plotlyjs, init_notebook_mode, plot, iplot\n",
    "from plotly.offline.offline import _plot_html\n",
    "import plotly.graph_objs as go\n",
    "print (__version__)\n",
    "init_notebook_mode(connected=True)\n",
    "\n",
    "from mpl_toolkits import mplot3d\n",
    "import matplotlib.pylab as plt\n",
    "from matplotlib.pylab import rcParams\n",
    "%matplotlib notebook\n",
    "#%matplotlib inline\n",
    "\n",
    "from tslearn.clustering import silhouette_score\n",
    "\n",
    "from IPython.core.interactiveshell import InteractiveShell\n",
    "InteractiveShell.ast_node_interactivity = \"all\"\n",
    "init_notebook_mode(connected=True)\n",
    "\n",
    "from utils import series_supp as ss\n",
    "from utils import data_factory as df\n",
    "from utils import k_mean as km\n",
    "from utils import k_shape as ks\n",
    "from utils.statics_func import *\n",
    "from utils import plot"
   ]
  },
  {
   "cell_type": "markdown",
   "metadata": {},
   "source": [
    "### Initialise la factory et créé les instances de Support de Series: ss.SeriesSupp"
   ]
  },
  {
   "cell_type": "code",
   "execution_count": null,
   "metadata": {},
   "outputs": [],
   "source": [
    "cwd = os.getcwd()\n",
    "os.chdir(cwd)\n",
    "print(cwd)\n",
    "factory = df.DataFactory(cwd)\n",
    "global_ploter = plot.Plot(None)\n",
    "\n",
    "RG24 = ss.SeriesSupp(cwd, factory, \"RG24\")\n",
    "RG1 = ss.SeriesSupp(cwd, factory, \"RG1\")\n",
    "GW = ss.SeriesSupp(cwd, factory, \"GW\")"
   ]
  },
  {
   "cell_type": "markdown",
   "metadata": {},
   "source": [
    "### Importation des datasets depuis les fichiers de stockage csv"
   ]
  },
  {
   "cell_type": "code",
   "execution_count": null,
   "metadata": {},
   "outputs": [],
   "source": [
    "GW.import_dataset()\n",
    "RG24.import_dataset()"
   ]
  },
  {
   "cell_type": "markdown",
   "metadata": {},
   "source": [
    "### Création des instances de Clustering\n",
    "Commenter ou décommenter pour choisir le cluster_GW voulu selon Kshape ou Kmean\n",
    "* GW: Grand Water -> les piezomètres\n",
    "* RG: Rain gauge -> les pluviomètres"
   ]
  },
  {
   "cell_type": "code",
   "execution_count": null,
   "metadata": {},
   "outputs": [],
   "source": [
    "#cluster_GW = km.Kmean(GW)\n",
    "cluster_GW = ks.Kshape(GW)\n",
    "cluster_RG = km.Kmean(RG24)"
   ]
  },
  {
   "cell_type": "markdown",
   "metadata": {},
   "source": [
    "## Importation du fichier Pickles contenant le clustering voulu"
   ]
  },
  {
   "cell_type": "code",
   "execution_count": null,
   "metadata": {},
   "outputs": [],
   "source": [
    "name_file = openfile_dialog()\n",
    "cluster_GW.read_cluster(name_file[0])"
   ]
  },
  {
   "cell_type": "code",
   "execution_count": null,
   "metadata": {},
   "outputs": [],
   "source": [
    "#name_file = \"Kshape_GW_[2011, 2012, 2013, 2014, 2015][1, 2, 3, 4, 5, 12]_True_5\"\n",
    "#cluster_GW.read_cluster(\"cluster\\\\29_06\\\\\" + name_file + \".pkl\")"
   ]
  },
  {
   "cell_type": "markdown",
   "metadata": {},
   "source": [
    "## Affichage des cluster\n",
    "* Prototypes en rouge\n",
    "* informations en dessous\n",
    "* repartition des objets dans les cluster"
   ]
  },
  {
   "cell_type": "code",
   "execution_count": null,
   "metadata": {},
   "outputs": [],
   "source": [
    "cluster_GW.ploter.plot_cluster_light()"
   ]
  },
  {
   "cell_type": "markdown",
   "metadata": {},
   "source": [
    "## Affichage d'une multitude d'informations sur le clustering observé"
   ]
  },
  {
   "cell_type": "code",
   "execution_count": null,
   "metadata": {},
   "outputs": [],
   "source": [
    "cluster_GW.show_info()\n",
    "#print(\"rounded values: \" + str(cluster_GW.ss.rounded))\n",
    "print(\"Repartition des objets au sein des clusters\")\n",
    "cluster_GW.cluster_counter()\n",
    "cluster_GW.counter\n",
    "print(\"Nombre total d'objets: \" + str(len(cluster_GW.ts_clust)))\n",
    "print(\"Repartition des objets dans les cluster selon leur capteur, en rouge le cluster le plus représentatif du capteur\")\n",
    "cluster_GW.capteur_parser()\n",
    "cluster_GW.style_df(\"max\", cluster_GW.get_captor_distribution_in_cluster())"
   ]
  },
  {
   "cell_type": "code",
   "execution_count": null,
   "metadata": {},
   "outputs": [],
   "source": [
    "cluster_GW.ploter.change_mode(3)\n",
    "#cluster_GW.cluster_by_fullname"
   ]
  },
  {
   "cell_type": "markdown",
   "metadata": {},
   "source": [
    "### Silhouette score cluster quality indice\n",
    "could be huge and long computation due to massive dataset"
   ]
  },
  {
   "cell_type": "code",
   "execution_count": null,
   "metadata": {},
   "outputs": [],
   "source": [
    "#sil = silhouette_score(cluster_GW.ts, cluster_GW.ts_clust, metric=\"softdtw\", metric_params = {\"gamma_sdtw\": .01})\n",
    "#print(\"Silhouette score: \" + str(sil))"
   ]
  },
  {
   "cell_type": "markdown",
   "metadata": {},
   "source": [
    "## Analyse: Cluster"
   ]
  },
  {
   "cell_type": "markdown",
   "metadata": {},
   "source": [
    "### n_obs: numéro du cluster analysé\n",
    "* Veuillez entrer le numéro du cluster que vous souhaitez analyser plus en détaille dans la variable **n_obs**"
   ]
  },
  {
   "cell_type": "code",
   "execution_count": null,
   "metadata": {
    "scrolled": true
   },
   "outputs": [],
   "source": [
    "n_obs = 1"
   ]
  },
  {
   "cell_type": "markdown",
   "metadata": {},
   "source": [
    "* Affichage 3D de la répartition géographique des ouvrages "
   ]
  },
  {
   "cell_type": "code",
   "execution_count": null,
   "metadata": {},
   "outputs": [],
   "source": [
    "cluster_GW.geo.plotly_3D(cluster_GW.cluster_by_name[n_obs])"
   ]
  },
  {
   "cell_type": "markdown",
   "metadata": {},
   "source": [
    "* Histogramme de la répartition des objets dans ce cluster selon de quel capteur ils sont issus et de quelle partie de l'année (mois ou semaine selon granularité)"
   ]
  },
  {
   "cell_type": "code",
   "execution_count": null,
   "metadata": {},
   "outputs": [],
   "source": [
    "cluster_GW.ploter.plot_histo_2(n_obs)"
   ]
  },
  {
   "cell_type": "markdown",
   "metadata": {},
   "source": [
    "* Affichage de tous les objets présent dans le cluster sélectionné "
   ]
  },
  {
   "cell_type": "code",
   "execution_count": null,
   "metadata": {},
   "outputs": [],
   "source": [
    "cluster_GW.clust_hoverview(n_obs)"
   ]
  },
  {
   "cell_type": "markdown",
   "metadata": {},
   "source": [
    "## Setup GW selon clusters"
   ]
  },
  {
   "cell_type": "code",
   "execution_count": null,
   "metadata": {},
   "outputs": [],
   "source": [
    "print(cluster_GW.ss.tmp_dataset == cluster_GW.ss.dataset)"
   ]
  },
  {
   "cell_type": "code",
   "execution_count": null,
   "metadata": {},
   "outputs": [],
   "source": [
    "cluster_GW.ss.reset_dataset()"
   ]
  },
  {
   "cell_type": "code",
   "execution_count": null,
   "metadata": {},
   "outputs": [],
   "source": [
    "# Smoothing\n",
    "cluster_GW.ss.dict_smooth()"
   ]
  },
  {
   "cell_type": "code",
   "execution_count": null,
   "metadata": {},
   "outputs": [],
   "source": [
    "# Les decoupages\n",
    "cluster_GW.ss.split_data_years()\n",
    "if cluster_GW.ss.days and len(cluster_GW.months) == 12:\n",
    "    cluster_GW.ss.split_data_weeks()\n",
    "elif cluster_GW.ss.days and len(cluster_GW.months) != 12:\n",
    "    cluster_GW.ss.split_data_months()\n",
    "    cluster_GW.ss.split_data_weeks()\n",
    "elif not cluster_GW.ss.days:\n",
    "    cluster_GW.ss.split_data_months()"
   ]
  },
  {
   "cell_type": "code",
   "execution_count": null,
   "metadata": {},
   "outputs": [],
   "source": [
    "# Round 0.1\n",
    "# Normalisation mean = 0 standard deviation = 1\n",
    "#cluster_GW.ss.dict_norm()"
   ]
  },
  {
   "cell_type": "markdown",
   "metadata": {},
   "source": [
    "# Analyse un capteur en particulier: \n",
    "### Veuillez entrer le nom du capteur souhaite"
   ]
  },
  {
   "cell_type": "code",
   "execution_count": null,
   "metadata": {},
   "outputs": [],
   "source": [
    "cap = \"GW_239\""
   ]
  },
  {
   "cell_type": "code",
   "execution_count": null,
   "metadata": {},
   "outputs": [],
   "source": [
    "clts = cluster_GW.get_clust_part_for_captor(cap)"
   ]
  },
  {
   "cell_type": "markdown",
   "metadata": {},
   "source": [
    "### Traitement et initialisation des vues"
   ]
  },
  {
   "cell_type": "markdown",
   "metadata": {},
   "source": [
    "* Creation de la matrice de distance et récupération du Pluviomètre le plus proche de notre piezometre"
   ]
  },
  {
   "cell_type": "code",
   "execution_count": null,
   "metadata": {
    "scrolled": false
   },
   "outputs": [],
   "source": [
    "dm = cluster_GW.geo.distance_matrix()\n",
    "cluster_GW.geo.distance_dict()\n",
    "RG_captor = cluster_GW.geo.get_minrange_rg(clts[0])"
   ]
  },
  {
   "cell_type": "markdown",
   "metadata": {},
   "source": [
    "* Nom du capteur pluviometrique"
   ]
  },
  {
   "cell_type": "code",
   "execution_count": null,
   "metadata": {},
   "outputs": [],
   "source": [
    "RG_captor"
   ]
  },
  {
   "cell_type": "markdown",
   "metadata": {},
   "source": [
    "* Traitement des données pluviometrique pour s'adapter au données souterraines, modification manuelle de RG24.years"
   ]
  },
  {
   "cell_type": "code",
   "execution_count": null,
   "metadata": {},
   "outputs": [],
   "source": [
    "RG24.reset_dataset()\n",
    "RG24.years = list(range(2015, 2016))"
   ]
  },
  {
   "cell_type": "markdown",
   "metadata": {},
   "source": [
    "* En commentaire l'adaptation automatique des années, mais par soucis de clarté il est souvent préférable de choisir les années de couvertures\n",
    "* Normalisation des données de pluie possible en decommentant la dernière ligne **#RG24.dict_norm()**"
   ]
  },
  {
   "cell_type": "code",
   "execution_count": null,
   "metadata": {},
   "outputs": [],
   "source": [
    "#RG24.years = cluster_GW.ss.years\n",
    "RG24.months = cluster_GW.ss.months\n",
    "\n",
    "RG24.split_data_years()\n",
    "if cluster_GW.ss.days:\n",
    "    RG24.split_data_weeks()\n",
    "else:\n",
    "    RG24.split_data_months()\n",
    "#RG24.dict_norm()"
   ]
  },
  {
   "cell_type": "markdown",
   "metadata": {},
   "source": [
    "* Recuperation des données liées au capteur pluviométrique le plus proche"
   ]
  },
  {
   "cell_type": "code",
   "execution_count": null,
   "metadata": {
    "scrolled": true
   },
   "outputs": [],
   "source": [
    "RG_captor_values = RG24.get_data_from_captor(str(\"24h_\" + RG_captor))"
   ]
  },
  {
   "cell_type": "markdown",
   "metadata": {},
   "source": [
    "Construction et affichage des graphiques:\n",
    "* Les données piezometriques avec la colorimetrie en legende (au dessus) les objet en noir sont ceux qui n'ont pas été sélectionnés pour la classification, dû à une mauvaise taille par manque d'information ou ne correspondant pas au format horaire.\n",
    "* Les données de pluie sur la plage annuelle et le découpage préféré en amont.\n",
    "* Ces mêmes données vu de manière cumulative"
   ]
  },
  {
   "cell_type": "code",
   "execution_count": null,
   "metadata": {},
   "outputs": [],
   "source": [
    "global_ploter.change_mode(3)\n",
    "cluster_GW.aff_color()\n",
    "global_ploter.plot_scatter_by_capteur_color_cluster(data = cluster_GW.ss.tmp_dataset, dict_clust = clts)\n",
    "global_ploter.plot_scatter(RG_captor_values)\n",
    "\n",
    "RG24.reset_dataset()\n",
    "for k, v in RG24.tmp_dataset.items():\n",
    "    if RG_captor in k:\n",
    "        v[\"Valeur\"] = v.Valeur.cumsum()        \n",
    "RG_captor_values = RG24.get_data_from_captor(str(\"24h_\" + RG_captor))\n",
    "global_ploter.plot_scatter(RG_captor_values)"
   ]
  },
  {
   "cell_type": "code",
   "execution_count": null,
   "metadata": {},
   "outputs": [],
   "source": []
  }
 ],
 "metadata": {
  "kernelspec": {
   "display_name": "Python 3",
   "language": "python",
   "name": "python3"
  },
  "language_info": {
   "codemirror_mode": {
    "name": "ipython",
    "version": 3
   },
   "file_extension": ".py",
   "mimetype": "text/x-python",
   "name": "python",
   "nbconvert_exporter": "python",
   "pygments_lexer": "ipython3",
   "version": "3.6.4"
  }
 },
 "nbformat": 4,
 "nbformat_minor": 2
}
