{
 "cells": [
  {
   "cell_type": "markdown",
   "metadata": {},
   "source": [
    "# Fichier: LECTURE ET ANALYSE DES CLUSTERS EN STOCK\n",
    "### Importation des librairies"
   ]
  },
  {
   "cell_type": "code",
   "execution_count": null,
   "metadata": {},
   "outputs": [],
   "source": [
    "import os\n",
    "from IPython.core.interactiveshell import InteractiveShell\n",
    "InteractiveShell.ast_node_interactivity = \"all\"\n",
    "\n",
    "from plotly import __version__\n",
    "from plotly.offline import download_plotlyjs, init_notebook_mode, plot, iplot\n",
    "from plotly.offline.offline import _plot_html\n",
    "import plotly.graph_objs as go\n",
    "print (__version__) # requires version >= 1.9.0\n",
    "init_notebook_mode(connected=True)\n",
    "\n",
    "from mpl_toolkits import mplot3d\n",
    "import matplotlib.pylab as plt\n",
    "from matplotlib.pylab import rcParams\n",
    "%matplotlib notebook\n",
    "#%matplotlib inline\n",
    "\n",
    "from tslearn.clustering import silhouette_score\n",
    "\n",
    "from utils import series_supp as ss\n",
    "from utils import data_factory as df\n",
    "from utils import k_mean as km\n",
    "from utils import k_shape as ks\n",
    "from utils.statics_func import *\n",
    "from utils import plot"
   ]
  },
  {
   "cell_type": "markdown",
   "metadata": {},
   "source": [
    "### Initialise la factory et créé les instances de Support de Series: ss.SeriesSupp"
   ]
  },
  {
   "cell_type": "code",
   "execution_count": null,
   "metadata": {},
   "outputs": [],
   "source": [
    "cwd = os.getcwd()\n",
    "os.chdir(cwd)\n",
    "print(cwd)\n",
    "factory = df.DataFactory(cwd)\n",
    "global_ploter = plot.Plot(None)\n",
    "\n",
    "RG24 = ss.SeriesSupp(cwd, factory, \"RG24\")\n",
    "RG1 = ss.SeriesSupp(cwd, factory, \"RG1\")\n",
    "GW = ss.SeriesSupp(cwd, factory, \"GW\")"
   ]
  },
  {
   "cell_type": "markdown",
   "metadata": {},
   "source": [
    "### Importation des datasets depuis les fichiers de stockage csv"
   ]
  },
  {
   "cell_type": "code",
   "execution_count": null,
   "metadata": {},
   "outputs": [],
   "source": [
    "GW.import_dataset()\n",
    "RG24.import_dataset()"
   ]
  },
  {
   "cell_type": "markdown",
   "metadata": {},
   "source": [
    "### Création des instances de Clustering\n",
    "Commenter ou décommenter pour choisir le cluster_GW voulu selon Kshape ou Kmean\n",
    "* GW: Grand Water -> les piezomètres\n",
    "* RG: Rain gauge -> les pluviomètres"
   ]
  },
  {
   "cell_type": "code",
   "execution_count": null,
   "metadata": {},
   "outputs": [],
   "source": [
    "#cluster_GW = km.Kmean(GW)\n",
    "cluster_GW = ks.Kshape(GW)\n",
    "cluster_RG = km.Kmean(RG24)"
   ]
  },
  {
   "cell_type": "markdown",
   "metadata": {},
   "source": [
    "## Importation du fichier Pickles contenant le clustering voulu\n",
    "### Veuillez renseigner le nom du fichier ci dessous"
   ]
  },
  {
   "cell_type": "code",
   "execution_count": null,
   "metadata": {},
   "outputs": [],
   "source": [
    "name_file = openfile_dialog()\n",
    "cluster_GW.read_cluster(name_file[0])"
   ]
  },
  {
   "cell_type": "code",
   "execution_count": null,
   "metadata": {},
   "outputs": [],
   "source": [
    "#name_file = \"Kshape_GW_[2011, 2012, 2013, 2014, 2015][1, 2, 3, 4, 5, 12]_True_5\"\n",
    "#cluster_GW.read_cluster(\"cluster\\\\29_06\\\\\" + name_file + \".pkl\")"
   ]
  },
  {
   "cell_type": "markdown",
   "metadata": {},
   "source": [
    "## Affichage des cluster\n",
    "* Prototypes en rouge\n",
    "* informations en dessous\n",
    "* repartition des objets dans les cluster"
   ]
  },
  {
   "cell_type": "code",
   "execution_count": null,
   "metadata": {
    "scrolled": false
   },
   "outputs": [],
   "source": [
    "cluster_GW.ploter.plot_cluster_light()\n",
    "cluster_GW.show_info()\n",
    "print(\"rounded values: \" + str(cluster_GW.ss.rounded))\n",
    "cluster_GW.cluster_counter()\n",
    "cluster_GW.counter\n",
    "print(\"tot obj: \" + str(len(cluster_GW.ts_clust)))\n",
    "cluster_GW.capteur_parser()\n",
    "cluster_GW.style_df(\"max\", cluster_GW.get_captor_distribution_in_cluster())"
   ]
  },
  {
   "cell_type": "code",
   "execution_count": null,
   "metadata": {},
   "outputs": [],
   "source": [
    "cluster_GW.ploter.change_mode(3)\n",
    "#cluster_GW.cluster_by_fullname"
   ]
  },
  {
   "cell_type": "markdown",
   "metadata": {},
   "source": [
    "### Silhouette score cluster quality indice\n",
    "could be huge and long computation due to massive dataset"
   ]
  },
  {
   "cell_type": "code",
   "execution_count": null,
   "metadata": {},
   "outputs": [],
   "source": [
    "#sil = silhouette_score(cluster_GW.ts, cluster_GW.ts_clust, metric=\"softdtw\", metric_params = {\"gamma_sdtw\": .01})\n",
    "#print(\"Silhouette score: \" + str(sil))"
   ]
  },
  {
   "cell_type": "markdown",
   "metadata": {},
   "source": [
    "## Analyse: n_obs est le numero du cluster à observer"
   ]
  },
  {
   "cell_type": "markdown",
   "metadata": {},
   "source": [
    "### n_obs: numéro du cluster analysé "
   ]
  },
  {
   "cell_type": "code",
   "execution_count": null,
   "metadata": {
    "scrolled": true
   },
   "outputs": [],
   "source": [
    "n_obs = 0"
   ]
  },
  {
   "cell_type": "code",
   "execution_count": null,
   "metadata": {},
   "outputs": [],
   "source": [
    "cluster_GW.geo.plotly_3D(cluster_GW.cluster_by_name[n_obs])"
   ]
  },
  {
   "cell_type": "code",
   "execution_count": null,
   "metadata": {},
   "outputs": [],
   "source": [
    "#cluster_GW.geo.distance_matrix()"
   ]
  },
  {
   "cell_type": "code",
   "execution_count": null,
   "metadata": {},
   "outputs": [],
   "source": [
    "cluster_GW.ploter.plot_histo_2(n_obs)"
   ]
  },
  {
   "cell_type": "code",
   "execution_count": null,
   "metadata": {},
   "outputs": [],
   "source": [
    "cluster_GW.clust_hoverview(n_obs)"
   ]
  },
  {
   "cell_type": "markdown",
   "metadata": {},
   "source": [
    "### Setup et affiche RG"
   ]
  },
  {
   "cell_type": "code",
   "execution_count": null,
   "metadata": {},
   "outputs": [],
   "source": [
    "#cluster_RG.ss.reset_dataset()\n",
    "#cluster_RG.ss.years = cluster_GW.ss.years\n",
    "#cluster_RG.ss.months = cluster_GW.ss.months"
   ]
  },
  {
   "cell_type": "code",
   "execution_count": null,
   "metadata": {},
   "outputs": [],
   "source": [
    "#cluster_RG.ss.split_data_years()\n",
    "#cluster_RG.ss.split_data_months()\n",
    "#if cluster_GW.ss.days:\n",
    "#    cluster_RG.ss.split_data_weeks()"
   ]
  },
  {
   "cell_type": "code",
   "execution_count": null,
   "metadata": {},
   "outputs": [],
   "source": [
    "#cluster_RG.ploter.change_mode(3)\n",
    "#cluster_RG.ploter.plot_scatter(cluster_RG.ss.tmp_dataset)"
   ]
  },
  {
   "cell_type": "code",
   "execution_count": null,
   "metadata": {},
   "outputs": [],
   "source": [
    "#for k, v in cluster_GW.ss.dataset.items():\n",
    "#    print(k)"
   ]
  },
  {
   "cell_type": "markdown",
   "metadata": {},
   "source": [
    "### Analyse un capteur en particulier"
   ]
  },
  {
   "cell_type": "code",
   "execution_count": null,
   "metadata": {},
   "outputs": [],
   "source": [
    "clts = cluster_GW.get_ts_by_captor(\"GW_234\")"
   ]
  },
  {
   "cell_type": "code",
   "execution_count": null,
   "metadata": {},
   "outputs": [],
   "source": [
    "global_ploter.plot_captor_cluster_cover(clts)"
   ]
  },
  {
   "cell_type": "markdown",
   "metadata": {},
   "source": [
    "#### Cluster et RG"
   ]
  },
  {
   "cell_type": "code",
   "execution_count": null,
   "metadata": {
    "scrolled": false
   },
   "outputs": [],
   "source": [
    "#cluster_GW.geo.distance_dict()"
   ]
  },
  {
   "cell_type": "markdown",
   "metadata": {},
   "source": [
    "# Pic detection"
   ]
  },
  {
   "cell_type": "code",
   "execution_count": null,
   "metadata": {},
   "outputs": [],
   "source": [
    "y = cluster_RG.ss.dataset[\"24h_RG002\"][\"Valeur\"].tolist()[50:200]\n",
    "#y = cluster_RG.ss.dataset[\"24h_RG007\"]\n",
    "#y = cluster_RG.ss.normalize(y)[\"Valeur\"].tolist()[:70]"
   ]
  },
  {
   "cell_type": "code",
   "execution_count": null,
   "metadata": {},
   "outputs": [],
   "source": [
    "#y = np.array([1,1,1.1,1,0.9,1,1,1.1,1,0.9,1,1.1,1,1,0.9,1,1,1.1,1,1,1,1,1.1,0.9,1,1.1,1,1,0.9,\n",
    "#       1,1.1,1,1,1.1,1,0.8,0.9,1,1.2,0.9,1,1,1.1,1.2,1,1.5,1,3,2,5,3,2,1,1,1,0.9,1,1,3,\n",
    "#       2.6,4,3,3.2,2,1,1,0.8,4,4,2,2.5,1,1,1])"
   ]
  },
  {
   "cell_type": "code",
   "execution_count": null,
   "metadata": {},
   "outputs": [],
   "source": [
    "lag = 10\n",
    "threshold = 10\n",
    "influence = 0.2"
   ]
  },
  {
   "cell_type": "code",
   "execution_count": null,
   "metadata": {},
   "outputs": [],
   "source": [
    "# Run algo with settings from above\n",
    "result = thresholding_algo(y, lag=lag, threshold=threshold, influence=influence)"
   ]
  },
  {
   "cell_type": "code",
   "execution_count": null,
   "metadata": {},
   "outputs": [],
   "source": [
    "result[\"signals\"]"
   ]
  },
  {
   "cell_type": "code",
   "execution_count": null,
   "metadata": {},
   "outputs": [],
   "source": [
    "rcParams['figure.figsize'] = 15, 6\n",
    "plt.plot(y)\n",
    "plt.plot(result[\"signals\"])"
   ]
  }
 ],
 "metadata": {
  "kernelspec": {
   "display_name": "Python 3",
   "language": "python",
   "name": "python3"
  },
  "language_info": {
   "codemirror_mode": {
    "name": "ipython",
    "version": 3
   },
   "file_extension": ".py",
   "mimetype": "text/x-python",
   "name": "python",
   "nbconvert_exporter": "python",
   "pygments_lexer": "ipython3",
   "version": "3.6.4"
  }
 },
 "nbformat": 4,
 "nbformat_minor": 2
}
