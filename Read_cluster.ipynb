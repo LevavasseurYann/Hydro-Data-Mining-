{
 "cells": [
  {
   "cell_type": "markdown",
   "metadata": {},
   "source": [
    "# Fichier: LECTURE ET ANALYSE DES CLUSTERS EN STOCK\n",
    "### Importation des librairies"
   ]
  },
  {
   "cell_type": "code",
   "execution_count": null,
   "metadata": {},
   "outputs": [],
   "source": [
    "import os\n",
    "from IPython.core.interactiveshell import InteractiveShell\n",
    "InteractiveShell.ast_node_interactivity = \"all\"\n",
    "\n",
    "from plotly import __version__\n",
    "from plotly.offline import download_plotlyjs, init_notebook_mode, plot, iplot\n",
    "from plotly.offline.offline import _plot_html\n",
    "import plotly.graph_objs as go\n",
    "print (__version__) # requires version >= 1.9.0\n",
    "init_notebook_mode(connected=True)\n",
    "\n",
    "from mpl_toolkits import mplot3d\n",
    "import matplotlib.pylab as plt\n",
    "from matplotlib.pylab import rcParams\n",
    "%matplotlib notebook\n",
    "#%matplotlib inline\n",
    "\n",
    "from tslearn.clustering import silhouette_score\n",
    "\n",
    "from utils import series_supp as ss\n",
    "from utils import data_factory as df\n",
    "from utils import k_mean as km\n",
    "from utils import k_shape as ks"
   ]
  },
  {
   "cell_type": "markdown",
   "metadata": {},
   "source": [
    "### Initialise la factory et créé les instances de Support de Series: ss.SeriesSupp"
   ]
  },
  {
   "cell_type": "code",
   "execution_count": null,
   "metadata": {},
   "outputs": [],
   "source": [
    "cwd = os.getcwd()\n",
    "os.chdir(cwd)\n",
    "print(cwd)\n",
    "factory = df.DataFactory(cwd)\n",
    "store_path = \"cluster\\\\13_06\\\\\"\n",
    "\n",
    "RG24 = ss.SeriesSupp(cwd, factory, \"RG24\")\n",
    "RG1 = ss.SeriesSupp(cwd, factory, \"RG1\")\n",
    "GW = ss.SeriesSupp(cwd, factory, \"GW\")"
   ]
  },
  {
   "cell_type": "markdown",
   "metadata": {},
   "source": [
    "### Importation des datasets depuis les fichiers de stockage csv"
   ]
  },
  {
   "cell_type": "code",
   "execution_count": null,
   "metadata": {},
   "outputs": [],
   "source": [
    "GW.import_dataset()\n",
    "RG24.import_dataset()"
   ]
  },
  {
   "cell_type": "markdown",
   "metadata": {},
   "source": [
    "### Création des instances de Clustering\n",
    "Commenter ou décommenter pour choisir le cluster_GW voulu selon Kshape ou Kmean\n",
    "* GW: Grand Water -> les piezomètres\n",
    "* RG: Rain gauge -> les pluviomètres"
   ]
  },
  {
   "cell_type": "code",
   "execution_count": null,
   "metadata": {},
   "outputs": [],
   "source": [
    "#cluster_GW = km.Kmean(GW)\n",
    "cluster_GW = ks.Kshape(GW)\n",
    "cluster_RG = km.Kmean(RG24)"
   ]
  },
  {
   "cell_type": "markdown",
   "metadata": {},
   "source": [
    "## Importation du fichier Pickles contenant le clustering voulu\n",
    "### Veuillez renseigner le nom du fichier ci dessous"
   ]
  },
  {
   "cell_type": "code",
   "execution_count": null,
   "metadata": {},
   "outputs": [],
   "source": [
    "name_file = \"kmean_GW_[2013]_allmonths_w_10\""
   ]
  },
  {
   "cell_type": "code",
   "execution_count": null,
   "metadata": {},
   "outputs": [],
   "source": [
    "cluster_GW.read_cluster(store_path, name_file)"
   ]
  },
  {
   "cell_type": "markdown",
   "metadata": {},
   "source": [
    "## Affichage des cluster\n",
    "* Prototypes en rouge\n",
    "* informations en dessous\n",
    "* repartition des objets dans les cluster"
   ]
  },
  {
   "cell_type": "code",
   "execution_count": null,
   "metadata": {
    "scrolled": false
   },
   "outputs": [],
   "source": [
    "cluster_GW.ploter.plot_cluster_light()\n",
    "cluster_GW.show_info()\n",
    "cluster_GW.cluster_counter()\n",
    "cluster_GW.counter"
   ]
  },
  {
   "cell_type": "markdown",
   "metadata": {},
   "source": [
    "#### Silhouette score cluster quality indice\n",
    "could be huge and long computation due to massive dataset"
   ]
  },
  {
   "cell_type": "code",
   "execution_count": null,
   "metadata": {},
   "outputs": [],
   "source": [
    "#sil = silhouette_score(cluster_GW.ts, cluster_GW.ts_clust, metric=\"softdtw\", metric_params = {\"gamma_sdtw\": .01})\n",
    "#print(\"Silhouette score: \" + str(sil))"
   ]
  },
  {
   "cell_type": "code",
   "execution_count": null,
   "metadata": {},
   "outputs": [],
   "source": [
    "cluster_GW.capteur_parser()\n",
    "cluster_GW.ploter.change_mode(3)\n",
    "#cluster_GW.cluster_by_fullname"
   ]
  },
  {
   "cell_type": "markdown",
   "metadata": {},
   "source": [
    "## Analyse: n_obs est le numero du cluster à observer"
   ]
  },
  {
   "cell_type": "code",
   "execution_count": null,
   "metadata": {
    "scrolled": false
   },
   "outputs": [],
   "source": [
    "n_obs = 6\n",
    "cluster_GW.geo.plotly_3D(cluster_GW.cluster_by_name[n_obs])\n",
    "cluster_GW.geo.distance_matrix()\n",
    "cluster_GW.ploter.plot_histo_2(n_obs)\n",
    "#cluster_GW.clust_hoverview(n_obs)\n",
    "\n",
    "# Affichage des données GW a parametrer\n",
    "#cluster_GW.ploter.change_mode(3)\n",
    "#cluster_RG.ploter.plot_scatter(cluster_RG.ss.dataset)"
   ]
  },
  {
   "cell_type": "code",
   "execution_count": null,
   "metadata": {
    "scrolled": true
   },
   "outputs": [],
   "source": [
    "cluster_GW.nb_week"
   ]
  },
  {
   "cell_type": "code",
   "execution_count": null,
   "metadata": {},
   "outputs": [],
   "source": [
    "#cluster_RG.ss.reset_dataset()\n",
    "#cluster_RG.ss.years = [2013, 2014, 2015]"
   ]
  },
  {
   "cell_type": "code",
   "execution_count": null,
   "metadata": {},
   "outputs": [],
   "source": [
    "#cluster_RG.ss.split_data_years()\n",
    "#cluster_RG.ss.split_data_months()\n",
    "#cluster_RG.ss.split_data_weeks()"
   ]
  },
  {
   "cell_type": "code",
   "execution_count": null,
   "metadata": {},
   "outputs": [],
   "source": [
    "#cluster_RG = km.Kmean(RG24)\n",
    "#cluster_RG.ploter.plot_scatter_by_capteur(cluster_RG.ss.dataset, [\"24h_RG007\", \"24h_RG017\"])"
   ]
  },
  {
   "cell_type": "code",
   "execution_count": null,
   "metadata": {},
   "outputs": [],
   "source": [
    "#for k, v in cluster_GW.ss.dataset.items():\n",
    "#    print(k)"
   ]
  },
  {
   "cell_type": "markdown",
   "metadata": {},
   "source": [
    "## Recherche et test sur le SAX"
   ]
  },
  {
   "cell_type": "code",
   "execution_count": null,
   "metadata": {},
   "outputs": [],
   "source": [
    "from prefixspan import PrefixSpan\n",
    "from utils import sax_engine as sq\n",
    "from utils import prefix_span as ps"
   ]
  },
  {
   "cell_type": "code",
   "execution_count": null,
   "metadata": {},
   "outputs": [],
   "source": [
    "se = sq.SaxEngine(8, 50)"
   ]
  },
  {
   "cell_type": "code",
   "execution_count": null,
   "metadata": {},
   "outputs": [],
   "source": [
    "se.reset()"
   ]
  },
  {
   "cell_type": "code",
   "execution_count": null,
   "metadata": {},
   "outputs": [],
   "source": [
    "se.set_nb_symbol(5)\n",
    "se.set_nb_segment(40)"
   ]
  },
  {
   "cell_type": "code",
   "execution_count": null,
   "metadata": {},
   "outputs": [],
   "source": [
    "all_ts = cluster_GW.get_cluster_n(n_obs)"
   ]
  },
  {
   "cell_type": "code",
   "execution_count": null,
   "metadata": {},
   "outputs": [],
   "source": [
    "se.fit(all_ts)\n",
    "se.run()"
   ]
  },
  {
   "cell_type": "code",
   "execution_count": null,
   "metadata": {},
   "outputs": [],
   "source": [
    "psm = ps.PrefixSpanManager(se)"
   ]
  },
  {
   "cell_type": "code",
   "execution_count": null,
   "metadata": {},
   "outputs": [],
   "source": [
    "psm.run()"
   ]
  },
  {
   "cell_type": "code",
   "execution_count": null,
   "metadata": {},
   "outputs": [],
   "source": [
    "psm.topk(5)"
   ]
  },
  {
   "cell_type": "code",
   "execution_count": null,
   "metadata": {},
   "outputs": [],
   "source": [
    "n = 25"
   ]
  },
  {
   "cell_type": "code",
   "execution_count": null,
   "metadata": {},
   "outputs": [],
   "source": [
    "traw = psm.se_instance.raw_data[n]\n",
    "traw.shape"
   ]
  },
  {
   "cell_type": "code",
   "execution_count": null,
   "metadata": {},
   "outputs": [],
   "source": [
    "tinv = psm.se_instance.sax_data_inv[n]\n",
    "tstr = psm.se_instance.sax_data[n]\n",
    "tinv.shape"
   ]
  },
  {
   "cell_type": "code",
   "execution_count": null,
   "metadata": {},
   "outputs": [],
   "source": [
    "#tinv"
   ]
  },
  {
   "cell_type": "code",
   "execution_count": null,
   "metadata": {},
   "outputs": [],
   "source": [
    "#len(psm.se_instance.sax_data_inv)\n",
    "#len(psm.se_instance.sax_data)\n",
    "#len(psm.se_instance.raw_data)\n",
    "#len(tinv.ravel())\n",
    "#len(tstr.ravel())\n",
    "#len(traw)"
   ]
  },
  {
   "cell_type": "code",
   "execution_count": null,
   "metadata": {},
   "outputs": [],
   "source": [
    "plt.plot(traw.ravel(), \"b-\", alpha=0.4)\n",
    "plt.plot(tinv.ravel(), \"b-\")\n",
    "plt.plot(tstr.ravel(), \"r-\")"
   ]
  },
  {
   "cell_type": "code",
   "execution_count": null,
   "metadata": {},
   "outputs": [],
   "source": []
  }
 ],
 "metadata": {
  "kernelspec": {
   "display_name": "Python 3",
   "language": "python",
   "name": "python3"
  },
  "language_info": {
   "codemirror_mode": {
    "name": "ipython",
    "version": 3
   },
   "file_extension": ".py",
   "mimetype": "text/x-python",
   "name": "python",
   "nbconvert_exporter": "python",
   "pygments_lexer": "ipython3",
   "version": "3.6.4"
  }
 },
 "nbformat": 4,
 "nbformat_minor": 2
}
